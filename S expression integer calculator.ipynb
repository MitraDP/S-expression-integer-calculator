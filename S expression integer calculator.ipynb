{
 "cells": [
  {
   "cell_type": "markdown",
   "metadata": {},
   "source": [
    "Note: This code works as long as the call starts and ends with ( and ). Extra parentheses embodying the call are ignored, e.g. calculator('((((((add (multiply 2 3) 2)))')"
   ]
  },
  {
   "cell_type": "code",
   "execution_count": 1,
   "metadata": {},
   "outputs": [],
   "source": [
    "import re"
   ]
  },
  {
   "cell_type": "code",
   "execution_count": 2,
   "metadata": {},
   "outputs": [],
   "source": [
    "def calculator (txt):\n",
    "    \"\"\"\n",
    "    Takes a string type argument as a function call and returns the evaluation as an integer.\n",
    "    A function call takes the following form: (FUNCTION EXPR EXPR)\n",
    "    A function call is always delimited by parenthesis ( and ).\n",
    "    The FUNCTION is one of add, subtract, multiply or power.\n",
    "    The EXPR can be any arbitrary expression, i.e. it can be further function calls or integer expressions. \n",
    "    Since this is an integer calculator, the exponent of the power function should be a non-negative integer. \n",
    "    Exactly one space is used to separate each term.\n",
    "\n",
    "    Parameters\n",
    "    ----------\n",
    "    text : str\n",
    "        The function call\n",
    "\n",
    "    Returns\n",
    "    -------\n",
    "    int\n",
    "        evaluation\n",
    "\n",
    "    Raises:\n",
    "    -------\n",
    "    Exception: for negative exponent\n",
    "    AssertionError: for invalid functions\n",
    "    \n",
    "    \"\"\"\n",
    "        \n",
    "    # Breaking down the function call to three groups: function, left expression and right exoression\n",
    "    function_breakdown=re.search(r\"\\(+(?P<function>[a-z]+) (?P<left>((-*\\d+)|(\\(+.*\\)+))) (?P<right>((-*\\d+)|(\\(+.*\\)+)))\\)+\",txt)\n",
    "    \n",
    "    # Evaluation of the left expression\n",
    "    if function_breakdown.group('left').isdigit() or function_breakdown.group('left').startswith('-'):\n",
    "        left = function_breakdown.group('left')\n",
    "    else:\n",
    "        left = calculator(function_breakdown.group('left')) \n",
    "        \n",
    "    # Evaluation of the right expression\n",
    "    if function_breakdown.group('right').isdigit() or function_breakdown.group('right').startswith('-'):\n",
    "        right = function_breakdown.group('right')\n",
    "    else:\n",
    "        right = calculator(function_breakdown.group('right'))        \n",
    "    \n",
    "    # Raising an exception for negative exponent\n",
    "    if function_breakdown.group('function') == 'power' and int(right)<0:\n",
    "        raise Exception('exponent must be non-negative')\n",
    "\n",
    "    # assert that the function is acceptable\n",
    "    assert function_breakdown.group('function') in ['add', 'subtract', 'multiply', 'power'], \"{} is not a valid function.\".format(function_breakdown.group('function'))\n",
    "    \n",
    "    # Evaluating the function output      \n",
    "    if function_breakdown.group('function') == 'add':\n",
    "        return int(left) + int(right)\n",
    "    if function_breakdown.group('function') == 'subtract':\n",
    "        return int(left) - int(right)\n",
    "    elif function_breakdown.group('function') == 'multiply':\n",
    "        return int(left) * int(right)\n",
    "    elif function_breakdown.group('function') == 'power':\n",
    "        return int(left) ** int(right)"
   ]
  },
  {
   "cell_type": "code",
   "execution_count": 3,
   "metadata": {},
   "outputs": [
    {
     "name": "stdout",
     "output_type": "stream",
     "text": [
      "(add 3 4)  : 7\n",
      "(multiply 3 14)  : 42\n",
      "(add 2 (add 1 6))  : 9\n",
      "(add (add 1 6) (add 5 2))  : 14\n",
      "(multiply 2 (multiply 1 6))  : 12\n",
      "(multiply 2 (subtract 1 6))  : -10\n",
      "(add (add 1 6) (multiply 0 2))  : 7\n",
      "(add (multiply (add 1 2) (subtract 3 (add 1 1))) (power 5 2))  : 28\n"
     ]
    }
   ],
   "source": [
    "calculations_list=['(add 3 4)', \n",
    "                   '(multiply 3 14)', \n",
    "                   '(add 2 (add 1 6))', \n",
    "                   '(add (add 1 6) (add 5 2))', \n",
    "                   '(multiply 2 (multiply 1 6))', \n",
    "                   '(multiply 2 (subtract 1 6))',\n",
    "                   '(add (add 1 6) (multiply 0 2))', \n",
    "                   '(add (multiply (add 1 2) (subtract 3 (add 1 1))) (power 5 2))']\n",
    " \n",
    "for calculation in calculations_list:\n",
    "    print(calculation,' :', calculator(calculation))"
   ]
  },
  {
   "cell_type": "code",
   "execution_count": 4,
   "metadata": {},
   "outputs": [
    {
     "ename": "Exception",
     "evalue": "exponent must be non-negative",
     "output_type": "error",
     "traceback": [
      "\u001b[1;31m---------------------------------------------------------------------------\u001b[0m",
      "\u001b[1;31mException\u001b[0m                                 Traceback (most recent call last)",
      "\u001b[1;32m<ipython-input-4-86750e06ac09>\u001b[0m in \u001b[0;36m<module>\u001b[1;34m\u001b[0m\n\u001b[1;32m----> 1\u001b[1;33m \u001b[0mprint\u001b[0m\u001b[1;33m(\u001b[0m\u001b[0mcalculator\u001b[0m\u001b[1;33m(\u001b[0m\u001b[1;34m'(add (multiply (add -1 2) (multiply 3 -2)) (power 5 -2))'\u001b[0m\u001b[1;33m)\u001b[0m\u001b[1;33m)\u001b[0m\u001b[1;33m\u001b[0m\u001b[1;33m\u001b[0m\u001b[0m\n\u001b[0m",
      "\u001b[1;32m<ipython-input-2-4eadfcd6b4cd>\u001b[0m in \u001b[0;36mcalculator\u001b[1;34m(txt)\u001b[0m\n\u001b[0;32m     39\u001b[0m         \u001b[0mright\u001b[0m \u001b[1;33m=\u001b[0m \u001b[0mfunction_breakdown\u001b[0m\u001b[1;33m.\u001b[0m\u001b[0mgroup\u001b[0m\u001b[1;33m(\u001b[0m\u001b[1;34m'right'\u001b[0m\u001b[1;33m)\u001b[0m\u001b[1;33m\u001b[0m\u001b[1;33m\u001b[0m\u001b[0m\n\u001b[0;32m     40\u001b[0m     \u001b[1;32melse\u001b[0m\u001b[1;33m:\u001b[0m\u001b[1;33m\u001b[0m\u001b[1;33m\u001b[0m\u001b[0m\n\u001b[1;32m---> 41\u001b[1;33m         \u001b[0mright\u001b[0m \u001b[1;33m=\u001b[0m \u001b[0mcalculator\u001b[0m\u001b[1;33m(\u001b[0m\u001b[0mfunction_breakdown\u001b[0m\u001b[1;33m.\u001b[0m\u001b[0mgroup\u001b[0m\u001b[1;33m(\u001b[0m\u001b[1;34m'right'\u001b[0m\u001b[1;33m)\u001b[0m\u001b[1;33m)\u001b[0m\u001b[1;33m\u001b[0m\u001b[1;33m\u001b[0m\u001b[0m\n\u001b[0m\u001b[0;32m     42\u001b[0m \u001b[1;33m\u001b[0m\u001b[0m\n\u001b[0;32m     43\u001b[0m     \u001b[1;31m# Raising an exception for negative exponent\u001b[0m\u001b[1;33m\u001b[0m\u001b[1;33m\u001b[0m\u001b[1;33m\u001b[0m\u001b[0m\n",
      "\u001b[1;32m<ipython-input-2-4eadfcd6b4cd>\u001b[0m in \u001b[0;36mcalculator\u001b[1;34m(txt)\u001b[0m\n\u001b[0;32m     43\u001b[0m     \u001b[1;31m# Raising an exception for negative exponent\u001b[0m\u001b[1;33m\u001b[0m\u001b[1;33m\u001b[0m\u001b[1;33m\u001b[0m\u001b[0m\n\u001b[0;32m     44\u001b[0m     \u001b[1;32mif\u001b[0m \u001b[0mfunction_breakdown\u001b[0m\u001b[1;33m.\u001b[0m\u001b[0mgroup\u001b[0m\u001b[1;33m(\u001b[0m\u001b[1;34m'function'\u001b[0m\u001b[1;33m)\u001b[0m \u001b[1;33m==\u001b[0m \u001b[1;34m'power'\u001b[0m \u001b[1;32mand\u001b[0m \u001b[0mint\u001b[0m\u001b[1;33m(\u001b[0m\u001b[0mright\u001b[0m\u001b[1;33m)\u001b[0m\u001b[1;33m<\u001b[0m\u001b[1;36m0\u001b[0m\u001b[1;33m:\u001b[0m\u001b[1;33m\u001b[0m\u001b[1;33m\u001b[0m\u001b[0m\n\u001b[1;32m---> 45\u001b[1;33m         \u001b[1;32mraise\u001b[0m \u001b[0mException\u001b[0m\u001b[1;33m(\u001b[0m\u001b[1;34m'exponent must be non-negative'\u001b[0m\u001b[1;33m)\u001b[0m\u001b[1;33m\u001b[0m\u001b[1;33m\u001b[0m\u001b[0m\n\u001b[0m\u001b[0;32m     46\u001b[0m \u001b[1;33m\u001b[0m\u001b[0m\n\u001b[0;32m     47\u001b[0m     \u001b[1;31m# assert that the function is acceptable\u001b[0m\u001b[1;33m\u001b[0m\u001b[1;33m\u001b[0m\u001b[1;33m\u001b[0m\u001b[0m\n",
      "\u001b[1;31mException\u001b[0m: exponent must be non-negative"
     ]
    }
   ],
   "source": [
    "print(calculator('(add (multiply (add -1 2) (multiply 3 -2)) (power 5 -2))'))"
   ]
  },
  {
   "cell_type": "code",
   "execution_count": 5,
   "metadata": {},
   "outputs": [
    {
     "ename": "AssertionError",
     "evalue": "ads is not a valid function.",
     "output_type": "error",
     "traceback": [
      "\u001b[1;31m---------------------------------------------------------------------------\u001b[0m",
      "\u001b[1;31mAssertionError\u001b[0m                            Traceback (most recent call last)",
      "\u001b[1;32m<ipython-input-5-f4b2162a2365>\u001b[0m in \u001b[0;36m<module>\u001b[1;34m\u001b[0m\n\u001b[1;32m----> 1\u001b[1;33m \u001b[0mprint\u001b[0m\u001b[1;33m(\u001b[0m\u001b[0mcalculator\u001b[0m\u001b[1;33m(\u001b[0m\u001b[1;34m'(ads 5 (multiply 3 -2))'\u001b[0m\u001b[1;33m)\u001b[0m\u001b[1;33m)\u001b[0m\u001b[1;33m\u001b[0m\u001b[1;33m\u001b[0m\u001b[0m\n\u001b[0m",
      "\u001b[1;32m<ipython-input-2-4eadfcd6b4cd>\u001b[0m in \u001b[0;36mcalculator\u001b[1;34m(txt)\u001b[0m\n\u001b[0;32m     46\u001b[0m \u001b[1;33m\u001b[0m\u001b[0m\n\u001b[0;32m     47\u001b[0m     \u001b[1;31m# assert that the function is acceptable\u001b[0m\u001b[1;33m\u001b[0m\u001b[1;33m\u001b[0m\u001b[1;33m\u001b[0m\u001b[0m\n\u001b[1;32m---> 48\u001b[1;33m     \u001b[1;32massert\u001b[0m \u001b[0mfunction_breakdown\u001b[0m\u001b[1;33m.\u001b[0m\u001b[0mgroup\u001b[0m\u001b[1;33m(\u001b[0m\u001b[1;34m'function'\u001b[0m\u001b[1;33m)\u001b[0m \u001b[1;32min\u001b[0m \u001b[1;33m[\u001b[0m\u001b[1;34m'add'\u001b[0m\u001b[1;33m,\u001b[0m \u001b[1;34m'subtract'\u001b[0m\u001b[1;33m,\u001b[0m \u001b[1;34m'multiply'\u001b[0m\u001b[1;33m,\u001b[0m \u001b[1;34m'power'\u001b[0m\u001b[1;33m]\u001b[0m\u001b[1;33m,\u001b[0m \u001b[1;34m\"{} is not a valid function.\"\u001b[0m\u001b[1;33m.\u001b[0m\u001b[0mformat\u001b[0m\u001b[1;33m(\u001b[0m\u001b[0mfunction_breakdown\u001b[0m\u001b[1;33m.\u001b[0m\u001b[0mgroup\u001b[0m\u001b[1;33m(\u001b[0m\u001b[1;34m'function'\u001b[0m\u001b[1;33m)\u001b[0m\u001b[1;33m)\u001b[0m\u001b[1;33m\u001b[0m\u001b[1;33m\u001b[0m\u001b[0m\n\u001b[0m\u001b[0;32m     49\u001b[0m \u001b[1;33m\u001b[0m\u001b[0m\n\u001b[0;32m     50\u001b[0m     \u001b[1;31m# Evaluating the function output\u001b[0m\u001b[1;33m\u001b[0m\u001b[1;33m\u001b[0m\u001b[1;33m\u001b[0m\u001b[0m\n",
      "\u001b[1;31mAssertionError\u001b[0m: ads is not a valid function."
     ]
    }
   ],
   "source": [
    "print(calculator('(ads 5 (multiply 3 -2))'))"
   ]
  },
  {
   "cell_type": "code",
   "execution_count": 6,
   "metadata": {},
   "outputs": [
    {
     "name": "stdout",
     "output_type": "stream",
     "text": [
      "8\n"
     ]
    }
   ],
   "source": [
    "print(calculator('((((((add (multiply 2 3) 2)))'))\n"
   ]
  }
 ],
 "metadata": {
  "kernelspec": {
   "display_name": "Python 3",
   "language": "python",
   "name": "python3"
  },
  "language_info": {
   "codemirror_mode": {
    "name": "ipython",
    "version": 3
   },
   "file_extension": ".py",
   "mimetype": "text/x-python",
   "name": "python",
   "nbconvert_exporter": "python",
   "pygments_lexer": "ipython3",
   "version": "3.7.4"
  }
 },
 "nbformat": 4,
 "nbformat_minor": 4
}
